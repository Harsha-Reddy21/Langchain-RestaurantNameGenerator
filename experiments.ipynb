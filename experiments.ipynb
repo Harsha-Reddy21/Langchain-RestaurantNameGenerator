{
 "cells": [
  {
   "cell_type": "code",
   "execution_count": 2,
   "id": "5061488d-aa55-411c-9ebb-ab63b9ffdb5a",
   "metadata": {},
   "outputs": [],
   "source": [
    "import os\n",
    "from dotenv import load_dotenv"
   ]
  },
  {
   "cell_type": "code",
   "execution_count": 55,
   "id": "bde8c2a9-c107-48be-a7c3-ee843155e38c",
   "metadata": {},
   "outputs": [
    {
     "data": {
      "text/plain": [
       "True"
      ]
     },
     "execution_count": 55,
     "metadata": {},
     "output_type": "execute_result"
    }
   ],
   "source": [
    "load_dotenv()"
   ]
  },
  {
   "cell_type": "code",
   "execution_count": 56,
   "id": "8ffda0cd-f2df-4eaf-a2ee-3c4040400c97",
   "metadata": {},
   "outputs": [],
   "source": [
    "openai_apikey=os.getenv('OPENAI_APIKEY')\n",
    "serp_apikey=os.getenv('SERP_APIKEY')"
   ]
  },
  {
   "cell_type": "code",
   "execution_count": 17,
   "id": "d8e25510-dfdd-46d9-918b-49e47a5d4318",
   "metadata": {},
   "outputs": [],
   "source": [
    "os.environ['OPENAI_API_KEY'] = openai_apikey"
   ]
  },
  {
   "cell_type": "code",
   "execution_count": 18,
   "id": "c387a2e0-4f10-4025-af7c-851b78bb0497",
   "metadata": {},
   "outputs": [],
   "source": [
    "from langchain_openai import OpenAI"
   ]
  },
  {
   "cell_type": "code",
   "execution_count": 19,
   "id": "50adb266-8608-43be-a509-034d5fe3d16d",
   "metadata": {},
   "outputs": [],
   "source": [
    "llm=OpenAI()"
   ]
  },
  {
   "cell_type": "code",
   "execution_count": 21,
   "id": "5017e0d0-9092-45ad-88b0-494f0769e8bb",
   "metadata": {},
   "outputs": [
    {
     "name": "stdout",
     "output_type": "stream",
     "text": [
      "\n",
      "\n",
      "\"Spice Palace\"\n"
     ]
    }
   ],
   "source": [
    "name = llm.invoke(\"I want to open a restaurant for Indian food. Suggest a fency name for this.\")\n",
    "print(name)"
   ]
  },
  {
   "cell_type": "code",
   "execution_count": null,
   "id": "73f157a7-77d9-4656-a49e-d5ac3ca24d22",
   "metadata": {},
   "outputs": [],
   "source": []
  },
  {
   "cell_type": "code",
   "execution_count": 24,
   "id": "2dc9c0af-d9d6-4fa3-8bdb-5368872e1038",
   "metadata": {},
   "outputs": [],
   "source": [
    "from langchain.prompts import PromptTemplate"
   ]
  },
  {
   "cell_type": "code",
   "execution_count": 26,
   "id": "aa2f0649-c8b4-4cbb-876a-7a66fd430ea4",
   "metadata": {},
   "outputs": [],
   "source": [
    "prompt_template=PromptTemplate(\n",
    "    input_variable=['cuisine'],\n",
    "    template='I want to open a restaurant for {cuisine} food.Suggest name for the restaurant'\n",
    ")\n",
    "p=prompt_template.format(cuisine='Indian')"
   ]
  },
  {
   "cell_type": "code",
   "execution_count": 27,
   "id": "e9626446-4026-4821-92c6-49e57b46a6e4",
   "metadata": {},
   "outputs": [
    {
     "name": "stdout",
     "output_type": "stream",
     "text": [
      "I want to open a restaurant for Indian food.Suggest name for the restaurant\n"
     ]
    }
   ],
   "source": [
    "print(p)"
   ]
  },
  {
   "cell_type": "code",
   "execution_count": null,
   "id": "e623b75e-2946-4cdb-9d79-ab091899524a",
   "metadata": {},
   "outputs": [],
   "source": []
  },
  {
   "cell_type": "code",
   "execution_count": 29,
   "id": "316a4e54-f3de-4c6f-acba-fa1cc1c98152",
   "metadata": {},
   "outputs": [],
   "source": [
    "from langchain.chains import LLMChain"
   ]
  },
  {
   "cell_type": "code",
   "execution_count": 38,
   "id": "3943bd83-93fc-4db2-b175-e8bf7d9be258",
   "metadata": {},
   "outputs": [],
   "source": [
    "chain=LLMChain(llm=llm,prompt=prompt_template,verbose=True)"
   ]
  },
  {
   "cell_type": "code",
   "execution_count": 39,
   "id": "a4e4a1bb-cb80-4910-b952-238ac4330a68",
   "metadata": {},
   "outputs": [
    {
     "data": {
      "text/plain": [
       "LLMChain(verbose=True, prompt=PromptTemplate(input_variables=['cuisine'], input_types={}, partial_variables={}, template='I want to open a restaurant for {cuisine} food.Suggest name for the restaurant'), llm=OpenAI(client=<openai.resources.completions.Completions object at 0x000002D3534E56A0>, async_client=<openai.resources.completions.AsyncCompletions object at 0x000002D353BEE840>, model_kwargs={}, openai_api_key=SecretStr('**********')), output_parser=StrOutputParser(), llm_kwargs={})"
      ]
     },
     "execution_count": 39,
     "metadata": {},
     "output_type": "execute_result"
    }
   ],
   "source": [
    "chain"
   ]
  },
  {
   "cell_type": "code",
   "execution_count": 40,
   "id": "b842bd28-729d-4535-909c-0640f2531634",
   "metadata": {},
   "outputs": [
    {
     "name": "stdout",
     "output_type": "stream",
     "text": [
      "\n",
      "\n",
      "\u001b[1m> Entering new LLMChain chain...\u001b[0m\n",
      "Prompt after formatting:\n",
      "\u001b[32;1m\u001b[1;3mI want to open a restaurant for Mexican food.Suggest name for the restaurant\u001b[0m\n",
      "\n",
      "\u001b[1m> Finished chain.\u001b[0m\n"
     ]
    },
    {
     "data": {
      "text/plain": [
       "'\\n\\n1. \"Taco Fiesta\"\\n2. \"Casa de Sabor\"\\n3. \"El Ranchero\"\\n4. \"La Cocina Mexicana\"\\n5. \"Fiesta Mexicana\"\\n6. \"El Burrito Grande\"\\n7. \"Salsa & Spice\"\\n8. \"Cantina del Sol\"\\n9. \"El Azteca\"\\n10. \"Delicioso Mexicano\"'"
      ]
     },
     "execution_count": 40,
     "metadata": {},
     "output_type": "execute_result"
    }
   ],
   "source": [
    "chain.run('Mexican')"
   ]
  },
  {
   "cell_type": "code",
   "execution_count": 42,
   "id": "7e7c1649-85a4-4192-a4d3-d0f4407f3a44",
   "metadata": {},
   "outputs": [],
   "source": [
    "\n",
    "llm = OpenAI(temperature=0.6)\n",
    "\n",
    "prompt_template_name = PromptTemplate(\n",
    "    input_variables =['cuisine'],\n",
    "    template = \"I want to open a restaurant for {cuisine} food. Suggest a fency name for this.\"\n",
    ")\n",
    "\n",
    "name_chain =LLMChain(llm=llm, prompt=prompt_template_name)\n",
    "\n",
    "prompt_template_items = PromptTemplate(\n",
    "    input_variables = ['restaurant_name'],\n",
    "    template=\"\"\"Suggest some menu items for {restaurant_name}\"\"\"\n",
    ")\n",
    "\n",
    "food_items_chain = LLMChain(llm=llm, prompt=prompt_template_items)"
   ]
  },
  {
   "cell_type": "code",
   "execution_count": 43,
   "id": "c17f8ec3-852d-45dc-a495-c4567ac368fe",
   "metadata": {},
   "outputs": [],
   "source": [
    "from langchain.chains import SimpleSequentialChain"
   ]
  },
  {
   "cell_type": "code",
   "execution_count": 44,
   "id": "237cfd67-a636-40f5-9dae-28903da07d20",
   "metadata": {},
   "outputs": [],
   "source": [
    "chain=SimpleSequentialChain(chains=[name_chain,food_items_chain])"
   ]
  },
  {
   "cell_type": "code",
   "execution_count": 45,
   "id": "f1682784-d903-4902-81ea-9b981f282c04",
   "metadata": {},
   "outputs": [],
   "source": [
    "content=chain.run(\"indian\")"
   ]
  },
  {
   "cell_type": "code",
   "execution_count": 47,
   "id": "14ed2adf-0bb8-42ec-93a9-99ec432a3378",
   "metadata": {},
   "outputs": [
    {
     "name": "stdout",
     "output_type": "stream",
     "text": [
      "\n",
      "\n",
      "1. Tandoori chicken \n",
      "2. Lamb curry \n",
      "3. Vegetable samosas \n",
      "4. Chicken tikka masala \n",
      "5. Palak paneer (spinach and cheese curry) \n",
      "6. Butter chicken \n",
      "7. Aloo gobi (potato and cauliflower curry) \n",
      "8. Biryani (spiced rice dish with meat or vegetables) \n",
      "9. Naan bread \n",
      "10. Mango lassi (yogurt drink) \n",
      "11. Tandoori shrimp \n",
      "12. Chana masala (chickpea curry) \n",
      "13. Saag chicken (chicken cooked in creamy spinach sauce) \n",
      "14. Malai kofta (vegetable balls in rich tomato sauce) \n",
      "15. Gulab jamun (sweet fried dough balls in syrup)\n"
     ]
    }
   ],
   "source": [
    "print(content)"
   ]
  },
  {
   "cell_type": "code",
   "execution_count": 48,
   "id": "93546169-909e-4031-95b0-5c831efb7dca",
   "metadata": {},
   "outputs": [],
   "source": [
    "llm = OpenAI(temperature=0.7)\n",
    "\n",
    "prompt_template_name = PromptTemplate(\n",
    "    input_variables =['cuisine'],\n",
    "    template = \"I want to open a restaurant for {cuisine} food. Suggest a fency name for this.\"\n",
    ")\n",
    "\n",
    "name_chain =LLMChain(llm=llm, prompt=prompt_template_name, output_key=\"restaurant_name\")"
   ]
  },
  {
   "cell_type": "code",
   "execution_count": 49,
   "id": "38803126-40e1-4af0-97b0-3c4589bceb0d",
   "metadata": {},
   "outputs": [],
   "source": [
    "\n",
    "llm = OpenAI(temperature=0.7)\n",
    "\n",
    "prompt_template_items = PromptTemplate(\n",
    "    input_variables = ['restaurant_name'],\n",
    "    template=\"Suggest some menu items for {restaurant_name}.\"\n",
    ")\n",
    "\n",
    "food_items_chain =LLMChain(llm=llm, prompt=prompt_template_items, output_key=\"menu_items\")"
   ]
  },
  {
   "cell_type": "code",
   "execution_count": 50,
   "id": "02ada06c-998a-4018-a58a-1d4d32463113",
   "metadata": {},
   "outputs": [],
   "source": [
    "from langchain.chains import SequentialChain\n",
    "\n",
    "chain = SequentialChain(\n",
    "    chains = [name_chain, food_items_chain],\n",
    "    input_variables = ['cuisine'],\n",
    "    output_variables = ['restaurant_name', \"menu_items\"]\n",
    ")"
   ]
  },
  {
   "cell_type": "code",
   "execution_count": 51,
   "id": "2d0b2d1e-094e-4317-9836-39bdaa20a216",
   "metadata": {},
   "outputs": [
    {
     "name": "stderr",
     "output_type": "stream",
     "text": [
      "C:\\Users\\Harshavardhan.reddy\\AppData\\Local\\Temp\\ipykernel_10820\\3052807682.py:1: LangChainDeprecationWarning: The method `Chain.__call__` was deprecated in langchain 0.1.0 and will be removed in 1.0. Use :meth:`~invoke` instead.\n",
      "  chain({\"cuisine\": \"Indian\"})\n"
     ]
    },
    {
     "data": {
      "text/plain": [
       "{'cuisine': 'Indian',\n",
       " 'restaurant_name': '\\n\\n\"Masala Mansion\"',\n",
       " 'menu_items': '\\n\\n1. Butter Chicken\\n2. Lamb Vindaloo\\n3. Vegetable Biryani\\n4. Garlic Naan\\n5. Palak Paneer\\n6. Tandoori Chicken\\n7. Chana Masala\\n8. Aloo Gobi\\n9. Samosa Chaat\\n10. Mango Lassi\\n11. Chicken Tikka Masala\\n12. Dal Makhani\\n13. Malai Kofta\\n14. Chicken 65\\n15. Peshawari Naan\\n16. Rasmalai\\n17. Tandoori Fish Tikka\\n18. Vegetable Pakora\\n19. Chicken Korma\\n20. Gulab Jamun.'}"
      ]
     },
     "execution_count": 51,
     "metadata": {},
     "output_type": "execute_result"
    }
   ],
   "source": [
    "chain({\"cuisine\": \"Indian\"})"
   ]
  },
  {
   "cell_type": "code",
   "execution_count": 61,
   "id": "af8c4adc-72e8-4a7d-acb4-c972e37346e4",
   "metadata": {},
   "outputs": [],
   "source": [
    "os.environ['SERPAPI_API_KEY'] = serp_apikey"
   ]
  },
  {
   "cell_type": "code",
   "execution_count": 62,
   "id": "940a866f-a2d5-4a44-b96e-1497945b4284",
   "metadata": {},
   "outputs": [],
   "source": [
    "from langchain.agents import AgentType, initialize_agent, load_tools"
   ]
  },
  {
   "cell_type": "code",
   "execution_count": 63,
   "id": "a368e825-07ad-48f5-ac63-23382c002422",
   "metadata": {},
   "outputs": [],
   "source": [
    "llm=OpenAI(temperature=0)"
   ]
  },
  {
   "cell_type": "code",
   "execution_count": 66,
   "id": "d59580e9-7ab7-4450-a283-9e52d77f6ca3",
   "metadata": {},
   "outputs": [],
   "source": [
    "tools=load_tools(['serpapi','llm-math'],llm=llm)"
   ]
  },
  {
   "cell_type": "code",
   "execution_count": 67,
   "id": "287af562-b2a1-444e-ba64-6645652d79c1",
   "metadata": {},
   "outputs": [
    {
     "name": "stderr",
     "output_type": "stream",
     "text": [
      "C:\\Users\\Harshavardhan.reddy\\AppData\\Local\\Temp\\ipykernel_10820\\3111564466.py:1: LangChainDeprecationWarning: LangChain agents will continue to be supported, but it is recommended for new use cases to be built with LangGraph. LangGraph offers a more flexible and full-featured framework for building agents, including support for tool-calling, persistence of state, and human-in-the-loop workflows. For details, refer to the `LangGraph documentation <https://langchain-ai.github.io/langgraph/>`_ as well as guides for `Migrating from AgentExecutor <https://python.langchain.com/docs/how_to/migrate_agent/>`_ and LangGraph's `Pre-built ReAct agent <https://langchain-ai.github.io/langgraph/how-tos/create-react-agent/>`_.\n",
      "  agents=initialize_agent(tools, llm, agent=AgentType.ZERO_SHOT_REACT_DESCRIPTION,verbose=True)\n"
     ]
    }
   ],
   "source": [
    "agents=initialize_agent(tools, llm, agent=AgentType.ZERO_SHOT_REACT_DESCRIPTION,verbose=True)"
   ]
  },
  {
   "cell_type": "code",
   "execution_count": 71,
   "id": "058b865c-e051-4f01-8539-964a370f86d0",
   "metadata": {},
   "outputs": [
    {
     "name": "stdout",
     "output_type": "stream",
     "text": [
      "\n",
      "\n",
      "\u001b[1m> Entering new AgentExecutor chain...\u001b[0m\n",
      "\u001b[32;1m\u001b[1;3m I should use the Calculator tool to solve this math problem.\n",
      "Action: Calculator\n",
      "Action Input: 2022 + 5\u001b[0m\n",
      "Observation: \u001b[33;1m\u001b[1;3mAnswer: 2027\u001b[0m\n",
      "Thought:\u001b[32;1m\u001b[1;3m Now I need to search for the GDP of the US in 2027.\n",
      "Action: Search\n",
      "Action Input: \"GDP of US in 2027\"\u001b[0m\n",
      "Observation: \u001b[36;1m\u001b[1;3m[' entity_type: related_questions.', 'In the long-term, the United States GDP is projected to trend around 28756.00 USD Billion in 2026 and 29302.00 USD Billion in 2027, according to our econometric ...', \"The report predicts that the country's GDP growth will decline from 2.8 per cent in 2024 to 1.9 per cent in 2025 and 2026, followed by 1.6 per ...\", 'Release Table for 2027, Release Tables: Summary of Economic Projections. FRED: Download, graph, and track economic data.', 'Real GDP growth. Annual percent change. 2.2 ; GDP, current prices. Billions of U.S. dollars. 30.34 ; GDP per capita, current prices. U.S. dollars per capita.', \"The United States has a highly developed mixed economy. It is the world's largest economy by nominal GDP and second largest by purchasing power parity (PPP) ...\", 'GDP Growth of US economy to slow down gradually to 1.6% by 2027 from 2.8% now: S&P Global ... The GDP growth of the US economy is expected to slow ...', 'CBO expects real (inflation-adjusted) GDP to grow by 2.3 percent this year and by 1.9 percent next year. ... and Economic Outlook: 2017 to 2027 (January 2017),.', 'GDP Constant Prices in the United States increased to 23536.30 USD Billion in the fourth quarter of 2024 from 23400.30 USD Billion in the third quarter of 2024.']\u001b[0m\n",
      "Thought:\u001b[32;1m\u001b[1;3m After looking through the search results, I can see that the projected GDP for the US in 2027 is 29302.00 USD Billion.\n",
      "Final Answer: The projected GDP for the US in 2027 is 29302.00 USD Billion.\u001b[0m\n",
      "\n",
      "\u001b[1m> Finished chain.\u001b[0m\n"
     ]
    },
    {
     "data": {
      "text/plain": [
       "'The projected GDP for the US in 2027 is 29302.00 USD Billion.'"
      ]
     },
     "execution_count": 71,
     "metadata": {},
     "output_type": "execute_result"
    }
   ],
   "source": [
    "agents.run('what was the GDP of US in 2022 plus 5')"
   ]
  },
  {
   "cell_type": "code",
   "execution_count": 73,
   "id": "98aad9ba-b33d-433c-8f04-5d898b51d8e9",
   "metadata": {},
   "outputs": [],
   "source": [
    "tools=load_tools(['wikipedia', 'llm-math'],llm=llm)"
   ]
  },
  {
   "cell_type": "code",
   "execution_count": 74,
   "id": "10fb4c8d-e98d-4f49-ab13-95c6b09f737a",
   "metadata": {},
   "outputs": [],
   "source": [
    "agent=initialize_agent(\n",
    "    tools,llm,agent=AgentType.ZERO_SHOT_REACT_DESCRIPTION,\n",
    "    verbose=True\n",
    ")"
   ]
  },
  {
   "cell_type": "code",
   "execution_count": 75,
   "id": "b516d12c-f25f-4964-8362-b3448226387c",
   "metadata": {},
   "outputs": [
    {
     "name": "stdout",
     "output_type": "stream",
     "text": [
      "\n",
      "\n",
      "\u001b[1m> Entering new AgentExecutor chain...\u001b[0m\n",
      "\u001b[32;1m\u001b[1;3m I should use Wikipedia to find out when Elon Musk was born\n",
      "Action: wikipedia\n",
      "Action Input: \"Elon Musk\"\u001b[0m\n",
      "Observation: \u001b[36;1m\u001b[1;3mPage: Elon Musk\n",
      "Summary: Elon Reeve Musk ( EE-lon; born June 28, 1971) is a businessman known for his key roles in Tesla, SpaceX, and Twitter (which he rebranded as X). Since 2025, he has been a senior advisor to United States president Donald Trump and the de facto head of the Department of Government Efficiency (DOGE). Musk is the wealthiest person in the world; as of March 2025, Forbes estimates his net worth to be $320 billion USD. \n",
      "Born to a wealthy family in Pretoria, South Africa, Musk emigrated in 1989 to Canada, whose citizenship he had inherited through his mother. He graduated from the University of Pennsylvania in the U.S. before moving to California to pursue business ventures. In 1995, Musk co-founded the software company Zip2. Following its sale in 1999, he co-founded X.com, an online payment company that later merged to form PayPal, which was acquired by eBay in 2002 for $1.5 billion. That year, Musk also became a U.S. citizen.\n",
      "In 2002, Musk founded SpaceX and became its CEO and chief engineer. The company has since led innovations in reusable rockets and commercial spaceflight. In 2004, Musk joined Tesla, Inc., as an early investor, and became its CEO and product architect in 2008; it has become a market leader in electric vehicles. In 2015, he co-founded OpenAI to advance artificial intelligence research, but left its board in 2018. In 2016, Musk co-founded Neuralink, a company focused on brain–computer interfaces, and in 2017 launched the Boring Company, which aims to develop tunnel transportation. Musk was named Time magazine's Person of the Year in 2021. In 2022, he acquired Twitter, implementing significant changes and rebranding it as X in 2023. In January 2025, he was appointed head of Trump's newly created DOGE.\n",
      "Musk's political activities and views have made him a polarizing figure. He has been criticized for making unscientific and misleading statements, including COVID-19 misinformation and promoting conspiracy theories. His acquisition of Twitter (now X) was controversial due to a subsequent increase in hate speech and the spread of misinformation on the service. He has engaged in political activities in several countries, including as a vocal and financial supporter of Trump. Musk was the largest donor in the 2024 U.S. presidential election and is a supporter of global far-right figures, causes, and political parties.\n",
      "\n",
      "\n",
      "\n",
      "Page: Elon Musk salute controversy\n",
      "Summary: On January 20, 2025, while speaking at a rally celebrating U.S. president Donald Trump's second inauguration, businessman and political figure Elon Musk twice made a salute interpreted by some as a Nazi or the fascist Roman salute.\n",
      "On his own social media platform, X (formerly Twitter), Musk dismissed the accusations of Nazi sympathies, derided them as being politicized, and described them as a \"tired\" attack. The Anti-Defamation League defended Musk and argued that the gesture carried no significant meaning, but other Jewish organizations have condemned the gesture. Multiple European political parties demanded that Musk be banned from entering their countries. Neo-Nazi and white supremacist groups celebrated the salutes.\n",
      "\n",
      "Page: Wealth of Elon Musk\n",
      "Summary: Elon Musk is the  wealthiest person in the world, with an estimated net worth of US$305 billion as of March 16, 2025, according to the Bloomberg Billionaires Index, and $320 billion according to Forbes, primarily from his ownership stakes in Tesla and SpaceX. \n",
      "Having been first listed on the Forbes Billionaires List in 2012, around 75% of Musk's wealth was derived from Tesla stock in November 2020. Describing himself as \"cash poor\", a year later, he became the first person in the world to have a net worth above $300 billion. By December 2024, he became the first person to reach a net worth of $400 billion.\n",
      "\n",
      "\u001b[0m\n",
      "Thought:\u001b[32;1m\u001b[1;3m Now that I know when Elon Musk was born, I can use the Calculator to find out his current age\n",
      "Action: Calculator\n",
      "Action Input: 2025 - 1971\u001b[0m\n",
      "Observation: \u001b[33;1m\u001b[1;3mAnswer: 54\u001b[0m\n",
      "Thought:\u001b[32;1m\u001b[1;3m I now know the final answer\n",
      "Final Answer: Elon Musk is currently 54 years old.\u001b[0m\n",
      "\n",
      "\u001b[1m> Finished chain.\u001b[0m\n"
     ]
    },
    {
     "data": {
      "text/plain": [
       "'Elon Musk is currently 54 years old.'"
      ]
     },
     "execution_count": 75,
     "metadata": {},
     "output_type": "execute_result"
    }
   ],
   "source": [
    "agent.run(\"when was elon musk born> what is his age right now?\")"
   ]
  },
  {
   "cell_type": "code",
   "execution_count": 76,
   "id": "d94807c8-cb4d-4ba0-a7e1-0e2a080ef9ad",
   "metadata": {},
   "outputs": [],
   "source": [
    "chain=LLMChain(llm=llm, prompt=prompt_template)"
   ]
  },
  {
   "cell_type": "code",
   "execution_count": 77,
   "id": "66c9289d-5267-456e-b1b9-9a0160d3405d",
   "metadata": {},
   "outputs": [],
   "source": [
    "name=chain.run(\"Mexican\")"
   ]
  },
  {
   "cell_type": "code",
   "execution_count": 78,
   "id": "d2189c44-82a6-4886-89f0-5503816313b0",
   "metadata": {},
   "outputs": [
    {
     "data": {
      "text/plain": [
       "'\\n\\n1. \"La Cocina Mexicana\"\\n2. \"El Sabor de México\"\\n3. \"Casa de Tacos\"\\n4. \"Fiesta Mexicana\"\\n5. \"Taco Loco\"\\n6. \"El Ranchito\"\\n7. \"Salsa y Tequila\"\\n8. \"Cantina Mexicana\"\\n9. \"El Burrito Grande\"\\n10. \"Taco Fiesta\"\\n11. \"La Taqueria\"\\n12. \"El Comal\"\\n13. \"Mexican Spice\"\\n14. \"Taco Town\"\\n15. \"Casa de Enchiladas\"'"
      ]
     },
     "execution_count": 78,
     "metadata": {},
     "output_type": "execute_result"
    }
   ],
   "source": [
    "name"
   ]
  },
  {
   "cell_type": "code",
   "execution_count": 80,
   "id": "4c87e654-c215-4ab5-a2f3-6894b8239a95",
   "metadata": {},
   "outputs": [
    {
     "name": "stdout",
     "output_type": "stream",
     "text": [
      "None\n"
     ]
    }
   ],
   "source": [
    "print(chain.memory)"
   ]
  },
  {
   "cell_type": "code",
   "execution_count": 81,
   "id": "1d6257e4-fbf8-4826-abcc-74f1a19e8cd2",
   "metadata": {},
   "outputs": [],
   "source": [
    "from langchain.memory import ConversationBufferMemory"
   ]
  },
  {
   "cell_type": "code",
   "execution_count": 82,
   "id": "dec1bda1-74bc-4e9c-88d0-fe8b0cca5bd3",
   "metadata": {},
   "outputs": [
    {
     "name": "stderr",
     "output_type": "stream",
     "text": [
      "C:\\Users\\Harshavardhan.reddy\\AppData\\Local\\Temp\\ipykernel_10820\\2290902444.py:1: LangChainDeprecationWarning: Please see the migration guide at: https://python.langchain.com/docs/versions/migrating_memory/\n",
      "  memory=ConversationBufferMemory()\n"
     ]
    }
   ],
   "source": [
    "memory=ConversationBufferMemory()"
   ]
  },
  {
   "cell_type": "code",
   "execution_count": 83,
   "id": "72a83c81-aecc-46e7-a27a-7cba62ec867e",
   "metadata": {},
   "outputs": [],
   "source": [
    "chain=LLMChain(llm=llm, prompt=prompt_template,memory=memory)"
   ]
  },
  {
   "cell_type": "code",
   "execution_count": 84,
   "id": "c87001d5-ba4f-45f2-898b-6db241d82a81",
   "metadata": {},
   "outputs": [],
   "source": [
    "name=chain.run('indian')"
   ]
  },
  {
   "cell_type": "code",
   "execution_count": 85,
   "id": "8ee6fdbd-6285-4b4e-bd22-e53aad733047",
   "metadata": {},
   "outputs": [
    {
     "data": {
      "text/plain": [
       "'\\n\\n1. \"Spice Junction\"\\n2. \"Taste of India\"\\n3. \"Curry House\"\\n4. \"Naan Stop\"\\n5. \"Masala Bites\"\\n6. \"Flavors of the East\"\\n7. \"Saffron Kitchen\"\\n8. \"Chaat Corner\"\\n9. \"Biryani Bliss\"\\n10. \"Namaste India\"'"
      ]
     },
     "execution_count": 85,
     "metadata": {},
     "output_type": "execute_result"
    }
   ],
   "source": [
    "name"
   ]
  },
  {
   "cell_type": "code",
   "execution_count": null,
   "id": "85217fea-3876-4f4a-8057-440357daaaaa",
   "metadata": {},
   "outputs": [],
   "source": []
  },
  {
   "cell_type": "code",
   "execution_count": null,
   "id": "b4bd14fe-b4f5-4521-a5af-49caa1351a44",
   "metadata": {},
   "outputs": [],
   "source": []
  }
 ],
 "metadata": {
  "kernelspec": {
   "display_name": "Python 3 (ipykernel)",
   "language": "python",
   "name": "python3"
  },
  "language_info": {
   "codemirror_mode": {
    "name": "ipython",
    "version": 3
   },
   "file_extension": ".py",
   "mimetype": "text/x-python",
   "name": "python",
   "nbconvert_exporter": "python",
   "pygments_lexer": "ipython3",
   "version": "3.12.3"
  }
 },
 "nbformat": 4,
 "nbformat_minor": 5
}
